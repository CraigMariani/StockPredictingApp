{
 "cells": [
  {
   "cell_type": "code",
   "execution_count": 1,
   "metadata": {},
   "outputs": [],
   "source": [
    "import numpy as np\n",
    "import pandas as pd\n",
    "from matplotlib import pyplot as plt\n",
    "from matplotlib import style\n",
    "style.use('ggplot')"
   ]
  },
  {
   "cell_type": "code",
   "execution_count": 2,
   "metadata": {},
   "outputs": [
    {
     "data": {
      "text/html": [
       "<div>\n",
       "<style scoped>\n",
       "    .dataframe tbody tr th:only-of-type {\n",
       "        vertical-align: middle;\n",
       "    }\n",
       "\n",
       "    .dataframe tbody tr th {\n",
       "        vertical-align: top;\n",
       "    }\n",
       "\n",
       "    .dataframe thead th {\n",
       "        text-align: right;\n",
       "    }\n",
       "</style>\n",
       "<table border=\"1\" class=\"dataframe\">\n",
       "  <thead>\n",
       "    <tr style=\"text-align: right;\">\n",
       "      <th></th>\n",
       "      <th>Date</th>\n",
       "      <th>CPRX</th>\n",
       "      <th>CRBP</th>\n",
       "      <th>BABA</th>\n",
       "      <th>SNE</th>\n",
       "      <th>APHA</th>\n",
       "      <th>GOOGL</th>\n",
       "      <th>MSFT</th>\n",
       "      <th>AMZN</th>\n",
       "      <th>NRZ</th>\n",
       "      <th>...</th>\n",
       "      <th>SPY</th>\n",
       "      <th>UCO</th>\n",
       "      <th>VSLR</th>\n",
       "      <th>IBIO</th>\n",
       "      <th>SPHD</th>\n",
       "      <th>PSEC</th>\n",
       "      <th>KODK</th>\n",
       "      <th>SRNE</th>\n",
       "      <th>FCEL</th>\n",
       "      <th>NVAX</th>\n",
       "    </tr>\n",
       "  </thead>\n",
       "  <tbody>\n",
       "    <tr>\n",
       "      <th>0</th>\n",
       "      <td>2015-09-08</td>\n",
       "      <td>3.89</td>\n",
       "      <td>1.8200</td>\n",
       "      <td>60.91</td>\n",
       "      <td>24.90</td>\n",
       "      <td>11.75</td>\n",
       "      <td>643.88</td>\n",
       "      <td>43.89</td>\n",
       "      <td>517.54</td>\n",
       "      <td>14.02</td>\n",
       "      <td>...</td>\n",
       "      <td>197.43</td>\n",
       "      <td>1206.5</td>\n",
       "      <td>13.26</td>\n",
       "      <td>7.200</td>\n",
       "      <td>31.450</td>\n",
       "      <td>7.99</td>\n",
       "      <td>14.98</td>\n",
       "      <td>13.23</td>\n",
       "      <td>10.8360</td>\n",
       "      <td>212.8</td>\n",
       "    </tr>\n",
       "    <tr>\n",
       "      <th>1</th>\n",
       "      <td>2015-09-09</td>\n",
       "      <td>3.97</td>\n",
       "      <td>1.8411</td>\n",
       "      <td>64.04</td>\n",
       "      <td>25.06</td>\n",
       "      <td>11.75</td>\n",
       "      <td>643.41</td>\n",
       "      <td>43.07</td>\n",
       "      <td>516.89</td>\n",
       "      <td>13.79</td>\n",
       "      <td>...</td>\n",
       "      <td>194.79</td>\n",
       "      <td>1127.0</td>\n",
       "      <td>13.18</td>\n",
       "      <td>7.200</td>\n",
       "      <td>31.070</td>\n",
       "      <td>7.93</td>\n",
       "      <td>15.11</td>\n",
       "      <td>12.65</td>\n",
       "      <td>11.1600</td>\n",
       "      <td>203.4</td>\n",
       "    </tr>\n",
       "    <tr>\n",
       "      <th>2</th>\n",
       "      <td>2015-09-10</td>\n",
       "      <td>4.14</td>\n",
       "      <td>1.8500</td>\n",
       "      <td>63.83</td>\n",
       "      <td>25.93</td>\n",
       "      <td>11.75</td>\n",
       "      <td>651.08</td>\n",
       "      <td>43.29</td>\n",
       "      <td>522.24</td>\n",
       "      <td>13.95</td>\n",
       "      <td>...</td>\n",
       "      <td>195.85</td>\n",
       "      <td>1186.5</td>\n",
       "      <td>12.99</td>\n",
       "      <td>7.100</td>\n",
       "      <td>31.100</td>\n",
       "      <td>7.97</td>\n",
       "      <td>15.25</td>\n",
       "      <td>13.28</td>\n",
       "      <td>11.5200</td>\n",
       "      <td>202.0</td>\n",
       "    </tr>\n",
       "    <tr>\n",
       "      <th>3</th>\n",
       "      <td>2015-09-11</td>\n",
       "      <td>3.90</td>\n",
       "      <td>1.9900</td>\n",
       "      <td>64.63</td>\n",
       "      <td>26.16</td>\n",
       "      <td>11.75</td>\n",
       "      <td>655.30</td>\n",
       "      <td>43.48</td>\n",
       "      <td>529.44</td>\n",
       "      <td>14.24</td>\n",
       "      <td>...</td>\n",
       "      <td>196.74</td>\n",
       "      <td>1142.5</td>\n",
       "      <td>13.14</td>\n",
       "      <td>7.031</td>\n",
       "      <td>31.240</td>\n",
       "      <td>7.94</td>\n",
       "      <td>15.48</td>\n",
       "      <td>13.53</td>\n",
       "      <td>11.3076</td>\n",
       "      <td>200.0</td>\n",
       "    </tr>\n",
       "    <tr>\n",
       "      <th>4</th>\n",
       "      <td>2015-09-14</td>\n",
       "      <td>4.11</td>\n",
       "      <td>2.1300</td>\n",
       "      <td>62.60</td>\n",
       "      <td>25.96</td>\n",
       "      <td>11.75</td>\n",
       "      <td>652.47</td>\n",
       "      <td>43.04</td>\n",
       "      <td>521.38</td>\n",
       "      <td>14.16</td>\n",
       "      <td>...</td>\n",
       "      <td>196.01</td>\n",
       "      <td>1100.0</td>\n",
       "      <td>12.66</td>\n",
       "      <td>6.691</td>\n",
       "      <td>31.222</td>\n",
       "      <td>7.91</td>\n",
       "      <td>14.99</td>\n",
       "      <td>12.89</td>\n",
       "      <td>11.0400</td>\n",
       "      <td>195.0</td>\n",
       "    </tr>\n",
       "  </tbody>\n",
       "</table>\n",
       "<p>5 rows × 101 columns</p>\n",
       "</div>"
      ],
      "text/plain": [
       "         Date  CPRX    CRBP   BABA    SNE   APHA   GOOGL   MSFT    AMZN  \\\n",
       "0  2015-09-08  3.89  1.8200  60.91  24.90  11.75  643.88  43.89  517.54   \n",
       "1  2015-09-09  3.97  1.8411  64.04  25.06  11.75  643.41  43.07  516.89   \n",
       "2  2015-09-10  4.14  1.8500  63.83  25.93  11.75  651.08  43.29  522.24   \n",
       "3  2015-09-11  3.90  1.9900  64.63  26.16  11.75  655.30  43.48  529.44   \n",
       "4  2015-09-14  4.11  2.1300  62.60  25.96  11.75  652.47  43.04  521.38   \n",
       "\n",
       "     NRZ  ...     SPY     UCO   VSLR   IBIO    SPHD  PSEC   KODK   SRNE  \\\n",
       "0  14.02  ...  197.43  1206.5  13.26  7.200  31.450  7.99  14.98  13.23   \n",
       "1  13.79  ...  194.79  1127.0  13.18  7.200  31.070  7.93  15.11  12.65   \n",
       "2  13.95  ...  195.85  1186.5  12.99  7.100  31.100  7.97  15.25  13.28   \n",
       "3  14.24  ...  196.74  1142.5  13.14  7.031  31.240  7.94  15.48  13.53   \n",
       "4  14.16  ...  196.01  1100.0  12.66  6.691  31.222  7.91  14.99  12.89   \n",
       "\n",
       "      FCEL   NVAX  \n",
       "0  10.8360  212.8  \n",
       "1  11.1600  203.4  \n",
       "2  11.5200  202.0  \n",
       "3  11.3076  200.0  \n",
       "4  11.0400  195.0  \n",
       "\n",
       "[5 rows x 101 columns]"
      ]
     },
     "execution_count": 2,
     "metadata": {},
     "output_type": "execute_result"
    }
   ],
   "source": [
    "df = pd.read_csv('../data_fetch/robinhood_data/100_most_popular_cleaned.csv')\n",
    "df.head()"
   ]
  },
  {
   "cell_type": "code",
   "execution_count": 3,
   "metadata": {},
   "outputs": [
    {
     "data": {
      "text/plain": [
       "(1261, 101)"
      ]
     },
     "execution_count": 3,
     "metadata": {},
     "output_type": "execute_result"
    }
   ],
   "source": [
    "df.shape"
   ]
  },
  {
   "cell_type": "code",
   "execution_count": 4,
   "metadata": {},
   "outputs": [
    {
     "name": "stdout",
     "output_type": "stream",
     "text": [
      "<class 'pandas.core.frame.DataFrame'>\n",
      "RangeIndex: 1261 entries, 0 to 1260\n",
      "Columns: 101 entries, Date to NVAX\n",
      "dtypes: float64(100), object(1)\n",
      "memory usage: 995.1+ KB\n"
     ]
    }
   ],
   "source": [
    "df.info()"
   ]
  },
  {
   "cell_type": "code",
   "execution_count": 5,
   "metadata": {},
   "outputs": [
    {
     "data": {
      "text/html": [
       "<div>\n",
       "<style scoped>\n",
       "    .dataframe tbody tr th:only-of-type {\n",
       "        vertical-align: middle;\n",
       "    }\n",
       "\n",
       "    .dataframe tbody tr th {\n",
       "        vertical-align: top;\n",
       "    }\n",
       "\n",
       "    .dataframe thead th {\n",
       "        text-align: right;\n",
       "    }\n",
       "</style>\n",
       "<table border=\"1\" class=\"dataframe\">\n",
       "  <thead>\n",
       "    <tr style=\"text-align: right;\">\n",
       "      <th></th>\n",
       "      <th>Date</th>\n",
       "      <th>AMZN</th>\n",
       "    </tr>\n",
       "  </thead>\n",
       "  <tbody>\n",
       "    <tr>\n",
       "      <th>0</th>\n",
       "      <td>2015-09-08</td>\n",
       "      <td>517.54</td>\n",
       "    </tr>\n",
       "    <tr>\n",
       "      <th>1</th>\n",
       "      <td>2015-09-09</td>\n",
       "      <td>516.89</td>\n",
       "    </tr>\n",
       "    <tr>\n",
       "      <th>2</th>\n",
       "      <td>2015-09-10</td>\n",
       "      <td>522.24</td>\n",
       "    </tr>\n",
       "    <tr>\n",
       "      <th>3</th>\n",
       "      <td>2015-09-11</td>\n",
       "      <td>529.44</td>\n",
       "    </tr>\n",
       "    <tr>\n",
       "      <th>4</th>\n",
       "      <td>2015-09-14</td>\n",
       "      <td>521.38</td>\n",
       "    </tr>\n",
       "    <tr>\n",
       "      <th>...</th>\n",
       "      <td>...</td>\n",
       "      <td>...</td>\n",
       "    </tr>\n",
       "    <tr>\n",
       "      <th>1256</th>\n",
       "      <td>2020-08-31</td>\n",
       "      <td>3450.96</td>\n",
       "    </tr>\n",
       "    <tr>\n",
       "      <th>1257</th>\n",
       "      <td>2020-09-01</td>\n",
       "      <td>3499.12</td>\n",
       "    </tr>\n",
       "    <tr>\n",
       "      <th>1258</th>\n",
       "      <td>2020-09-02</td>\n",
       "      <td>3531.45</td>\n",
       "    </tr>\n",
       "    <tr>\n",
       "      <th>1259</th>\n",
       "      <td>2020-09-03</td>\n",
       "      <td>3368.00</td>\n",
       "    </tr>\n",
       "    <tr>\n",
       "      <th>1260</th>\n",
       "      <td>2020-09-04</td>\n",
       "      <td>3294.62</td>\n",
       "    </tr>\n",
       "  </tbody>\n",
       "</table>\n",
       "<p>1261 rows × 2 columns</p>\n",
       "</div>"
      ],
      "text/plain": [
       "            Date     AMZN\n",
       "0     2015-09-08   517.54\n",
       "1     2015-09-09   516.89\n",
       "2     2015-09-10   522.24\n",
       "3     2015-09-11   529.44\n",
       "4     2015-09-14   521.38\n",
       "...          ...      ...\n",
       "1256  2020-08-31  3450.96\n",
       "1257  2020-09-01  3499.12\n",
       "1258  2020-09-02  3531.45\n",
       "1259  2020-09-03  3368.00\n",
       "1260  2020-09-04  3294.62\n",
       "\n",
       "[1261 rows x 2 columns]"
      ]
     },
     "execution_count": 5,
     "metadata": {},
     "output_type": "execute_result"
    }
   ],
   "source": [
    "df[['Date', 'AMZN']]"
   ]
  },
  {
   "cell_type": "code",
   "execution_count": 6,
   "metadata": {},
   "outputs": [
    {
     "data": {
      "text/html": [
       "<div>\n",
       "<style scoped>\n",
       "    .dataframe tbody tr th:only-of-type {\n",
       "        vertical-align: middle;\n",
       "    }\n",
       "\n",
       "    .dataframe tbody tr th {\n",
       "        vertical-align: top;\n",
       "    }\n",
       "\n",
       "    .dataframe thead th {\n",
       "        text-align: right;\n",
       "    }\n",
       "</style>\n",
       "<table border=\"1\" class=\"dataframe\">\n",
       "  <thead>\n",
       "    <tr style=\"text-align: right;\">\n",
       "      <th></th>\n",
       "      <th>begins_at</th>\n",
       "      <th>open_price</th>\n",
       "      <th>close_price</th>\n",
       "      <th>high_price</th>\n",
       "      <th>low_price</th>\n",
       "      <th>volume</th>\n",
       "      <th>session</th>\n",
       "      <th>interpolated</th>\n",
       "      <th>symbol</th>\n",
       "    </tr>\n",
       "  </thead>\n",
       "  <tbody>\n",
       "    <tr>\n",
       "      <th>0</th>\n",
       "      <td>2015-09-08T00:00:00Z</td>\n",
       "      <td>508.69</td>\n",
       "      <td>517.54</td>\n",
       "      <td>518.35</td>\n",
       "      <td>508.5144</td>\n",
       "      <td>3810653</td>\n",
       "      <td>reg</td>\n",
       "      <td>False</td>\n",
       "      <td>AMZN</td>\n",
       "    </tr>\n",
       "    <tr>\n",
       "      <th>1</th>\n",
       "      <td>2015-09-09T00:00:00Z</td>\n",
       "      <td>524.00</td>\n",
       "      <td>516.89</td>\n",
       "      <td>529.95</td>\n",
       "      <td>515.0600</td>\n",
       "      <td>4370657</td>\n",
       "      <td>reg</td>\n",
       "      <td>False</td>\n",
       "      <td>AMZN</td>\n",
       "    </tr>\n",
       "    <tr>\n",
       "      <th>2</th>\n",
       "      <td>2015-09-10T00:00:00Z</td>\n",
       "      <td>515.15</td>\n",
       "      <td>522.24</td>\n",
       "      <td>526.13</td>\n",
       "      <td>514.7800</td>\n",
       "      <td>2575982</td>\n",
       "      <td>reg</td>\n",
       "      <td>False</td>\n",
       "      <td>AMZN</td>\n",
       "    </tr>\n",
       "    <tr>\n",
       "      <th>3</th>\n",
       "      <td>2015-09-11T00:00:00Z</td>\n",
       "      <td>521.07</td>\n",
       "      <td>529.44</td>\n",
       "      <td>529.44</td>\n",
       "      <td>520.6050</td>\n",
       "      <td>3227862</td>\n",
       "      <td>reg</td>\n",
       "      <td>False</td>\n",
       "      <td>AMZN</td>\n",
       "    </tr>\n",
       "    <tr>\n",
       "      <th>4</th>\n",
       "      <td>2015-09-14T00:00:00Z</td>\n",
       "      <td>529.44</td>\n",
       "      <td>521.38</td>\n",
       "      <td>532.45</td>\n",
       "      <td>518.5800</td>\n",
       "      <td>3130241</td>\n",
       "      <td>reg</td>\n",
       "      <td>False</td>\n",
       "      <td>AMZN</td>\n",
       "    </tr>\n",
       "  </tbody>\n",
       "</table>\n",
       "</div>"
      ],
      "text/plain": [
       "              begins_at  open_price  close_price  high_price  low_price  \\\n",
       "0  2015-09-08T00:00:00Z      508.69       517.54      518.35   508.5144   \n",
       "1  2015-09-09T00:00:00Z      524.00       516.89      529.95   515.0600   \n",
       "2  2015-09-10T00:00:00Z      515.15       522.24      526.13   514.7800   \n",
       "3  2015-09-11T00:00:00Z      521.07       529.44      529.44   520.6050   \n",
       "4  2015-09-14T00:00:00Z      529.44       521.38      532.45   518.5800   \n",
       "\n",
       "    volume session  interpolated symbol  \n",
       "0  3810653     reg         False   AMZN  \n",
       "1  4370657     reg         False   AMZN  \n",
       "2  2575982     reg         False   AMZN  \n",
       "3  3227862     reg         False   AMZN  \n",
       "4  3130241     reg         False   AMZN  "
      ]
     },
     "execution_count": 6,
     "metadata": {},
     "output_type": "execute_result"
    }
   ],
   "source": [
    "df_amazon = pd.read_csv('../data_fetch/robinhood_data/stock_spreadsheets/AMZN_Amazon.csv')\n",
    "df_amazon.drop(columns=['Unnamed: 0'], inplace=True)\n",
    "df_amazon.head()"
   ]
  },
  {
   "cell_type": "code",
   "execution_count": 7,
   "metadata": {},
   "outputs": [
    {
     "data": {
      "text/html": [
       "<div>\n",
       "<style scoped>\n",
       "    .dataframe tbody tr th:only-of-type {\n",
       "        vertical-align: middle;\n",
       "    }\n",
       "\n",
       "    .dataframe tbody tr th {\n",
       "        vertical-align: top;\n",
       "    }\n",
       "\n",
       "    .dataframe thead th {\n",
       "        text-align: right;\n",
       "    }\n",
       "</style>\n",
       "<table border=\"1\" class=\"dataframe\">\n",
       "  <thead>\n",
       "    <tr style=\"text-align: right;\">\n",
       "      <th></th>\n",
       "      <th>begins_at</th>\n",
       "      <th>open_price</th>\n",
       "      <th>close_price</th>\n",
       "      <th>high_price</th>\n",
       "      <th>low_price</th>\n",
       "      <th>volume</th>\n",
       "      <th>session</th>\n",
       "      <th>interpolated</th>\n",
       "      <th>symbol</th>\n",
       "    </tr>\n",
       "  </thead>\n",
       "  <tbody>\n",
       "    <tr>\n",
       "      <th>0</th>\n",
       "      <td>2015-09-08T00:00:00Z</td>\n",
       "      <td>508.69</td>\n",
       "      <td>517.54</td>\n",
       "      <td>518.35</td>\n",
       "      <td>508.5144</td>\n",
       "      <td>3810653</td>\n",
       "      <td>reg</td>\n",
       "      <td>False</td>\n",
       "      <td>AMZN</td>\n",
       "    </tr>\n",
       "    <tr>\n",
       "      <th>1</th>\n",
       "      <td>2015-09-09T00:00:00Z</td>\n",
       "      <td>524.00</td>\n",
       "      <td>516.89</td>\n",
       "      <td>529.95</td>\n",
       "      <td>515.0600</td>\n",
       "      <td>4370657</td>\n",
       "      <td>reg</td>\n",
       "      <td>False</td>\n",
       "      <td>AMZN</td>\n",
       "    </tr>\n",
       "    <tr>\n",
       "      <th>2</th>\n",
       "      <td>2015-09-10T00:00:00Z</td>\n",
       "      <td>515.15</td>\n",
       "      <td>522.24</td>\n",
       "      <td>526.13</td>\n",
       "      <td>514.7800</td>\n",
       "      <td>2575982</td>\n",
       "      <td>reg</td>\n",
       "      <td>False</td>\n",
       "      <td>AMZN</td>\n",
       "    </tr>\n",
       "    <tr>\n",
       "      <th>3</th>\n",
       "      <td>2015-09-11T00:00:00Z</td>\n",
       "      <td>521.07</td>\n",
       "      <td>529.44</td>\n",
       "      <td>529.44</td>\n",
       "      <td>520.6050</td>\n",
       "      <td>3227862</td>\n",
       "      <td>reg</td>\n",
       "      <td>False</td>\n",
       "      <td>AMZN</td>\n",
       "    </tr>\n",
       "    <tr>\n",
       "      <th>4</th>\n",
       "      <td>2015-09-14T00:00:00Z</td>\n",
       "      <td>529.44</td>\n",
       "      <td>521.38</td>\n",
       "      <td>532.45</td>\n",
       "      <td>518.5800</td>\n",
       "      <td>3130241</td>\n",
       "      <td>reg</td>\n",
       "      <td>False</td>\n",
       "      <td>AMZN</td>\n",
       "    </tr>\n",
       "    <tr>\n",
       "      <th>...</th>\n",
       "      <td>...</td>\n",
       "      <td>...</td>\n",
       "      <td>...</td>\n",
       "      <td>...</td>\n",
       "      <td>...</td>\n",
       "      <td>...</td>\n",
       "      <td>...</td>\n",
       "      <td>...</td>\n",
       "      <td>...</td>\n",
       "    </tr>\n",
       "    <tr>\n",
       "      <th>1255</th>\n",
       "      <td>2020-08-31T00:00:00Z</td>\n",
       "      <td>3408.99</td>\n",
       "      <td>3450.96</td>\n",
       "      <td>3495.00</td>\n",
       "      <td>3405.0000</td>\n",
       "      <td>4185885</td>\n",
       "      <td>reg</td>\n",
       "      <td>False</td>\n",
       "      <td>AMZN</td>\n",
       "    </tr>\n",
       "    <tr>\n",
       "      <th>1256</th>\n",
       "      <td>2020-09-01T00:00:00Z</td>\n",
       "      <td>3489.58</td>\n",
       "      <td>3499.12</td>\n",
       "      <td>3513.87</td>\n",
       "      <td>3467.0000</td>\n",
       "      <td>3476407</td>\n",
       "      <td>reg</td>\n",
       "      <td>False</td>\n",
       "      <td>AMZN</td>\n",
       "    </tr>\n",
       "    <tr>\n",
       "      <th>1257</th>\n",
       "      <td>2020-09-02T00:00:00Z</td>\n",
       "      <td>3547.00</td>\n",
       "      <td>3531.45</td>\n",
       "      <td>3552.25</td>\n",
       "      <td>3486.6850</td>\n",
       "      <td>3931476</td>\n",
       "      <td>reg</td>\n",
       "      <td>False</td>\n",
       "      <td>AMZN</td>\n",
       "    </tr>\n",
       "    <tr>\n",
       "      <th>1258</th>\n",
       "      <td>2020-09-03T00:00:00Z</td>\n",
       "      <td>3485.00</td>\n",
       "      <td>3368.00</td>\n",
       "      <td>3488.41</td>\n",
       "      <td>3303.0000</td>\n",
       "      <td>8161113</td>\n",
       "      <td>reg</td>\n",
       "      <td>False</td>\n",
       "      <td>AMZN</td>\n",
       "    </tr>\n",
       "    <tr>\n",
       "      <th>1259</th>\n",
       "      <td>2020-09-04T00:00:00Z</td>\n",
       "      <td>3318.00</td>\n",
       "      <td>3294.62</td>\n",
       "      <td>3381.50</td>\n",
       "      <td>3111.1300</td>\n",
       "      <td>8781754</td>\n",
       "      <td>reg</td>\n",
       "      <td>False</td>\n",
       "      <td>AMZN</td>\n",
       "    </tr>\n",
       "  </tbody>\n",
       "</table>\n",
       "<p>1260 rows × 9 columns</p>\n",
       "</div>"
      ],
      "text/plain": [
       "                 begins_at  open_price  close_price  high_price  low_price  \\\n",
       "0     2015-09-08T00:00:00Z      508.69       517.54      518.35   508.5144   \n",
       "1     2015-09-09T00:00:00Z      524.00       516.89      529.95   515.0600   \n",
       "2     2015-09-10T00:00:00Z      515.15       522.24      526.13   514.7800   \n",
       "3     2015-09-11T00:00:00Z      521.07       529.44      529.44   520.6050   \n",
       "4     2015-09-14T00:00:00Z      529.44       521.38      532.45   518.5800   \n",
       "...                    ...         ...          ...         ...        ...   \n",
       "1255  2020-08-31T00:00:00Z     3408.99      3450.96     3495.00  3405.0000   \n",
       "1256  2020-09-01T00:00:00Z     3489.58      3499.12     3513.87  3467.0000   \n",
       "1257  2020-09-02T00:00:00Z     3547.00      3531.45     3552.25  3486.6850   \n",
       "1258  2020-09-03T00:00:00Z     3485.00      3368.00     3488.41  3303.0000   \n",
       "1259  2020-09-04T00:00:00Z     3318.00      3294.62     3381.50  3111.1300   \n",
       "\n",
       "       volume session  interpolated symbol  \n",
       "0     3810653     reg         False   AMZN  \n",
       "1     4370657     reg         False   AMZN  \n",
       "2     2575982     reg         False   AMZN  \n",
       "3     3227862     reg         False   AMZN  \n",
       "4     3130241     reg         False   AMZN  \n",
       "...       ...     ...           ...    ...  \n",
       "1255  4185885     reg         False   AMZN  \n",
       "1256  3476407     reg         False   AMZN  \n",
       "1257  3931476     reg         False   AMZN  \n",
       "1258  8161113     reg         False   AMZN  \n",
       "1259  8781754     reg         False   AMZN  \n",
       "\n",
       "[1260 rows x 9 columns]"
      ]
     },
     "execution_count": 7,
     "metadata": {},
     "output_type": "execute_result"
    }
   ],
   "source": [
    "df_amazon"
   ]
  },
  {
   "cell_type": "code",
   "execution_count": 8,
   "metadata": {},
   "outputs": [],
   "source": [
    "df_amazon.drop(columns=['session', 'interpolated', 'symbol'], axis=1, inplace=True)"
   ]
  },
  {
   "cell_type": "code",
   "execution_count": 9,
   "metadata": {},
   "outputs": [
    {
     "data": {
      "text/html": [
       "<div>\n",
       "<style scoped>\n",
       "    .dataframe tbody tr th:only-of-type {\n",
       "        vertical-align: middle;\n",
       "    }\n",
       "\n",
       "    .dataframe tbody tr th {\n",
       "        vertical-align: top;\n",
       "    }\n",
       "\n",
       "    .dataframe thead th {\n",
       "        text-align: right;\n",
       "    }\n",
       "</style>\n",
       "<table border=\"1\" class=\"dataframe\">\n",
       "  <thead>\n",
       "    <tr style=\"text-align: right;\">\n",
       "      <th></th>\n",
       "      <th>begins_at</th>\n",
       "      <th>open_price</th>\n",
       "      <th>close_price</th>\n",
       "      <th>high_price</th>\n",
       "      <th>low_price</th>\n",
       "      <th>volume</th>\n",
       "    </tr>\n",
       "  </thead>\n",
       "  <tbody>\n",
       "    <tr>\n",
       "      <th>0</th>\n",
       "      <td>2015-09-08 00:00:00+00:00</td>\n",
       "      <td>508.69</td>\n",
       "      <td>517.54</td>\n",
       "      <td>518.35</td>\n",
       "      <td>508.5144</td>\n",
       "      <td>3810653</td>\n",
       "    </tr>\n",
       "    <tr>\n",
       "      <th>1</th>\n",
       "      <td>2015-09-09 00:00:00+00:00</td>\n",
       "      <td>524.00</td>\n",
       "      <td>516.89</td>\n",
       "      <td>529.95</td>\n",
       "      <td>515.0600</td>\n",
       "      <td>4370657</td>\n",
       "    </tr>\n",
       "    <tr>\n",
       "      <th>2</th>\n",
       "      <td>2015-09-10 00:00:00+00:00</td>\n",
       "      <td>515.15</td>\n",
       "      <td>522.24</td>\n",
       "      <td>526.13</td>\n",
       "      <td>514.7800</td>\n",
       "      <td>2575982</td>\n",
       "    </tr>\n",
       "    <tr>\n",
       "      <th>3</th>\n",
       "      <td>2015-09-11 00:00:00+00:00</td>\n",
       "      <td>521.07</td>\n",
       "      <td>529.44</td>\n",
       "      <td>529.44</td>\n",
       "      <td>520.6050</td>\n",
       "      <td>3227862</td>\n",
       "    </tr>\n",
       "    <tr>\n",
       "      <th>4</th>\n",
       "      <td>2015-09-14 00:00:00+00:00</td>\n",
       "      <td>529.44</td>\n",
       "      <td>521.38</td>\n",
       "      <td>532.45</td>\n",
       "      <td>518.5800</td>\n",
       "      <td>3130241</td>\n",
       "    </tr>\n",
       "    <tr>\n",
       "      <th>...</th>\n",
       "      <td>...</td>\n",
       "      <td>...</td>\n",
       "      <td>...</td>\n",
       "      <td>...</td>\n",
       "      <td>...</td>\n",
       "      <td>...</td>\n",
       "    </tr>\n",
       "    <tr>\n",
       "      <th>1255</th>\n",
       "      <td>2020-08-31 00:00:00+00:00</td>\n",
       "      <td>3408.99</td>\n",
       "      <td>3450.96</td>\n",
       "      <td>3495.00</td>\n",
       "      <td>3405.0000</td>\n",
       "      <td>4185885</td>\n",
       "    </tr>\n",
       "    <tr>\n",
       "      <th>1256</th>\n",
       "      <td>2020-09-01 00:00:00+00:00</td>\n",
       "      <td>3489.58</td>\n",
       "      <td>3499.12</td>\n",
       "      <td>3513.87</td>\n",
       "      <td>3467.0000</td>\n",
       "      <td>3476407</td>\n",
       "    </tr>\n",
       "    <tr>\n",
       "      <th>1257</th>\n",
       "      <td>2020-09-02 00:00:00+00:00</td>\n",
       "      <td>3547.00</td>\n",
       "      <td>3531.45</td>\n",
       "      <td>3552.25</td>\n",
       "      <td>3486.6850</td>\n",
       "      <td>3931476</td>\n",
       "    </tr>\n",
       "    <tr>\n",
       "      <th>1258</th>\n",
       "      <td>2020-09-03 00:00:00+00:00</td>\n",
       "      <td>3485.00</td>\n",
       "      <td>3368.00</td>\n",
       "      <td>3488.41</td>\n",
       "      <td>3303.0000</td>\n",
       "      <td>8161113</td>\n",
       "    </tr>\n",
       "    <tr>\n",
       "      <th>1259</th>\n",
       "      <td>2020-09-04 00:00:00+00:00</td>\n",
       "      <td>3318.00</td>\n",
       "      <td>3294.62</td>\n",
       "      <td>3381.50</td>\n",
       "      <td>3111.1300</td>\n",
       "      <td>8781754</td>\n",
       "    </tr>\n",
       "  </tbody>\n",
       "</table>\n",
       "<p>1260 rows × 6 columns</p>\n",
       "</div>"
      ],
      "text/plain": [
       "                     begins_at  open_price  close_price  high_price  \\\n",
       "0    2015-09-08 00:00:00+00:00      508.69       517.54      518.35   \n",
       "1    2015-09-09 00:00:00+00:00      524.00       516.89      529.95   \n",
       "2    2015-09-10 00:00:00+00:00      515.15       522.24      526.13   \n",
       "3    2015-09-11 00:00:00+00:00      521.07       529.44      529.44   \n",
       "4    2015-09-14 00:00:00+00:00      529.44       521.38      532.45   \n",
       "...                        ...         ...          ...         ...   \n",
       "1255 2020-08-31 00:00:00+00:00     3408.99      3450.96     3495.00   \n",
       "1256 2020-09-01 00:00:00+00:00     3489.58      3499.12     3513.87   \n",
       "1257 2020-09-02 00:00:00+00:00     3547.00      3531.45     3552.25   \n",
       "1258 2020-09-03 00:00:00+00:00     3485.00      3368.00     3488.41   \n",
       "1259 2020-09-04 00:00:00+00:00     3318.00      3294.62     3381.50   \n",
       "\n",
       "      low_price   volume  \n",
       "0      508.5144  3810653  \n",
       "1      515.0600  4370657  \n",
       "2      514.7800  2575982  \n",
       "3      520.6050  3227862  \n",
       "4      518.5800  3130241  \n",
       "...         ...      ...  \n",
       "1255  3405.0000  4185885  \n",
       "1256  3467.0000  3476407  \n",
       "1257  3486.6850  3931476  \n",
       "1258  3303.0000  8161113  \n",
       "1259  3111.1300  8781754  \n",
       "\n",
       "[1260 rows x 6 columns]"
      ]
     },
     "execution_count": 9,
     "metadata": {},
     "output_type": "execute_result"
    }
   ],
   "source": [
    "df_amazon['begins_at'] = pd.to_datetime(df_amazon['begins_at'])\n",
    "df_amazon"
   ]
  },
  {
   "cell_type": "code",
   "execution_count": 10,
   "metadata": {},
   "outputs": [],
   "source": [
    "for date in df_amazon['begins_at']:\n",
    "    date_split = str(date).split(' ')\n",
    "    df_amazon['begins_at'] = df_amazon['begins_at'].replace(date, date_split[0])"
   ]
  },
  {
   "cell_type": "code",
   "execution_count": 11,
   "metadata": {},
   "outputs": [
    {
     "data": {
      "text/html": [
       "<div>\n",
       "<style scoped>\n",
       "    .dataframe tbody tr th:only-of-type {\n",
       "        vertical-align: middle;\n",
       "    }\n",
       "\n",
       "    .dataframe tbody tr th {\n",
       "        vertical-align: top;\n",
       "    }\n",
       "\n",
       "    .dataframe thead th {\n",
       "        text-align: right;\n",
       "    }\n",
       "</style>\n",
       "<table border=\"1\" class=\"dataframe\">\n",
       "  <thead>\n",
       "    <tr style=\"text-align: right;\">\n",
       "      <th></th>\n",
       "      <th>begins_at</th>\n",
       "      <th>open_price</th>\n",
       "      <th>close_price</th>\n",
       "      <th>high_price</th>\n",
       "      <th>low_price</th>\n",
       "      <th>volume</th>\n",
       "    </tr>\n",
       "  </thead>\n",
       "  <tbody>\n",
       "    <tr>\n",
       "      <th>0</th>\n",
       "      <td>2015-09-08</td>\n",
       "      <td>508.69</td>\n",
       "      <td>517.54</td>\n",
       "      <td>518.35</td>\n",
       "      <td>508.5144</td>\n",
       "      <td>3810653</td>\n",
       "    </tr>\n",
       "    <tr>\n",
       "      <th>1</th>\n",
       "      <td>2015-09-09</td>\n",
       "      <td>524.00</td>\n",
       "      <td>516.89</td>\n",
       "      <td>529.95</td>\n",
       "      <td>515.0600</td>\n",
       "      <td>4370657</td>\n",
       "    </tr>\n",
       "    <tr>\n",
       "      <th>2</th>\n",
       "      <td>2015-09-10</td>\n",
       "      <td>515.15</td>\n",
       "      <td>522.24</td>\n",
       "      <td>526.13</td>\n",
       "      <td>514.7800</td>\n",
       "      <td>2575982</td>\n",
       "    </tr>\n",
       "    <tr>\n",
       "      <th>3</th>\n",
       "      <td>2015-09-11</td>\n",
       "      <td>521.07</td>\n",
       "      <td>529.44</td>\n",
       "      <td>529.44</td>\n",
       "      <td>520.6050</td>\n",
       "      <td>3227862</td>\n",
       "    </tr>\n",
       "    <tr>\n",
       "      <th>4</th>\n",
       "      <td>2015-09-14</td>\n",
       "      <td>529.44</td>\n",
       "      <td>521.38</td>\n",
       "      <td>532.45</td>\n",
       "      <td>518.5800</td>\n",
       "      <td>3130241</td>\n",
       "    </tr>\n",
       "    <tr>\n",
       "      <th>...</th>\n",
       "      <td>...</td>\n",
       "      <td>...</td>\n",
       "      <td>...</td>\n",
       "      <td>...</td>\n",
       "      <td>...</td>\n",
       "      <td>...</td>\n",
       "    </tr>\n",
       "    <tr>\n",
       "      <th>1255</th>\n",
       "      <td>2020-08-31</td>\n",
       "      <td>3408.99</td>\n",
       "      <td>3450.96</td>\n",
       "      <td>3495.00</td>\n",
       "      <td>3405.0000</td>\n",
       "      <td>4185885</td>\n",
       "    </tr>\n",
       "    <tr>\n",
       "      <th>1256</th>\n",
       "      <td>2020-09-01</td>\n",
       "      <td>3489.58</td>\n",
       "      <td>3499.12</td>\n",
       "      <td>3513.87</td>\n",
       "      <td>3467.0000</td>\n",
       "      <td>3476407</td>\n",
       "    </tr>\n",
       "    <tr>\n",
       "      <th>1257</th>\n",
       "      <td>2020-09-02</td>\n",
       "      <td>3547.00</td>\n",
       "      <td>3531.45</td>\n",
       "      <td>3552.25</td>\n",
       "      <td>3486.6850</td>\n",
       "      <td>3931476</td>\n",
       "    </tr>\n",
       "    <tr>\n",
       "      <th>1258</th>\n",
       "      <td>2020-09-03</td>\n",
       "      <td>3485.00</td>\n",
       "      <td>3368.00</td>\n",
       "      <td>3488.41</td>\n",
       "      <td>3303.0000</td>\n",
       "      <td>8161113</td>\n",
       "    </tr>\n",
       "    <tr>\n",
       "      <th>1259</th>\n",
       "      <td>2020-09-04</td>\n",
       "      <td>3318.00</td>\n",
       "      <td>3294.62</td>\n",
       "      <td>3381.50</td>\n",
       "      <td>3111.1300</td>\n",
       "      <td>8781754</td>\n",
       "    </tr>\n",
       "  </tbody>\n",
       "</table>\n",
       "<p>1260 rows × 6 columns</p>\n",
       "</div>"
      ],
      "text/plain": [
       "       begins_at  open_price  close_price  high_price  low_price   volume\n",
       "0     2015-09-08      508.69       517.54      518.35   508.5144  3810653\n",
       "1     2015-09-09      524.00       516.89      529.95   515.0600  4370657\n",
       "2     2015-09-10      515.15       522.24      526.13   514.7800  2575982\n",
       "3     2015-09-11      521.07       529.44      529.44   520.6050  3227862\n",
       "4     2015-09-14      529.44       521.38      532.45   518.5800  3130241\n",
       "...          ...         ...          ...         ...        ...      ...\n",
       "1255  2020-08-31     3408.99      3450.96     3495.00  3405.0000  4185885\n",
       "1256  2020-09-01     3489.58      3499.12     3513.87  3467.0000  3476407\n",
       "1257  2020-09-02     3547.00      3531.45     3552.25  3486.6850  3931476\n",
       "1258  2020-09-03     3485.00      3368.00     3488.41  3303.0000  8161113\n",
       "1259  2020-09-04     3318.00      3294.62     3381.50  3111.1300  8781754\n",
       "\n",
       "[1260 rows x 6 columns]"
      ]
     },
     "execution_count": 11,
     "metadata": {},
     "output_type": "execute_result"
    }
   ],
   "source": [
    "df_amazon"
   ]
  },
  {
   "cell_type": "code",
   "execution_count": 12,
   "metadata": {},
   "outputs": [
    {
     "name": "stdout",
     "output_type": "stream",
     "text": [
      "<class 'pandas.core.frame.DataFrame'>\n",
      "RangeIndex: 1260 entries, 0 to 1259\n",
      "Data columns (total 6 columns):\n",
      " #   Column       Non-Null Count  Dtype         \n",
      "---  ------       --------------  -----         \n",
      " 0   begins_at    1260 non-null   datetime64[ns]\n",
      " 1   open_price   1260 non-null   float64       \n",
      " 2   close_price  1260 non-null   float64       \n",
      " 3   high_price   1260 non-null   float64       \n",
      " 4   low_price    1260 non-null   float64       \n",
      " 5   volume       1260 non-null   int64         \n",
      "dtypes: datetime64[ns](1), float64(4), int64(1)\n",
      "memory usage: 59.2 KB\n"
     ]
    }
   ],
   "source": [
    "df_amazon['begins_at'] = pd.to_datetime(df_amazon['begins_at'])\n",
    "df_amazon.info()"
   ]
  },
  {
   "cell_type": "code",
   "execution_count": 13,
   "metadata": {},
   "outputs": [
    {
     "data": {
      "text/html": [
       "<div>\n",
       "<style scoped>\n",
       "    .dataframe tbody tr th:only-of-type {\n",
       "        vertical-align: middle;\n",
       "    }\n",
       "\n",
       "    .dataframe tbody tr th {\n",
       "        vertical-align: top;\n",
       "    }\n",
       "\n",
       "    .dataframe thead th {\n",
       "        text-align: right;\n",
       "    }\n",
       "</style>\n",
       "<table border=\"1\" class=\"dataframe\">\n",
       "  <thead>\n",
       "    <tr style=\"text-align: right;\">\n",
       "      <th></th>\n",
       "      <th>begins_at</th>\n",
       "      <th>open_price</th>\n",
       "      <th>close_price</th>\n",
       "      <th>high_price</th>\n",
       "      <th>low_price</th>\n",
       "      <th>volume</th>\n",
       "    </tr>\n",
       "  </thead>\n",
       "  <tbody>\n",
       "    <tr>\n",
       "      <th>0</th>\n",
       "      <td>2015-09-08</td>\n",
       "      <td>508.69</td>\n",
       "      <td>517.54</td>\n",
       "      <td>518.35</td>\n",
       "      <td>508.5144</td>\n",
       "      <td>3810653</td>\n",
       "    </tr>\n",
       "    <tr>\n",
       "      <th>1</th>\n",
       "      <td>2015-09-09</td>\n",
       "      <td>524.00</td>\n",
       "      <td>516.89</td>\n",
       "      <td>529.95</td>\n",
       "      <td>515.0600</td>\n",
       "      <td>4370657</td>\n",
       "    </tr>\n",
       "    <tr>\n",
       "      <th>2</th>\n",
       "      <td>2015-09-10</td>\n",
       "      <td>515.15</td>\n",
       "      <td>522.24</td>\n",
       "      <td>526.13</td>\n",
       "      <td>514.7800</td>\n",
       "      <td>2575982</td>\n",
       "    </tr>\n",
       "    <tr>\n",
       "      <th>3</th>\n",
       "      <td>2015-09-11</td>\n",
       "      <td>521.07</td>\n",
       "      <td>529.44</td>\n",
       "      <td>529.44</td>\n",
       "      <td>520.6050</td>\n",
       "      <td>3227862</td>\n",
       "    </tr>\n",
       "    <tr>\n",
       "      <th>4</th>\n",
       "      <td>2015-09-14</td>\n",
       "      <td>529.44</td>\n",
       "      <td>521.38</td>\n",
       "      <td>532.45</td>\n",
       "      <td>518.5800</td>\n",
       "      <td>3130241</td>\n",
       "    </tr>\n",
       "  </tbody>\n",
       "</table>\n",
       "</div>"
      ],
      "text/plain": [
       "   begins_at  open_price  close_price  high_price  low_price   volume\n",
       "0 2015-09-08      508.69       517.54      518.35   508.5144  3810653\n",
       "1 2015-09-09      524.00       516.89      529.95   515.0600  4370657\n",
       "2 2015-09-10      515.15       522.24      526.13   514.7800  2575982\n",
       "3 2015-09-11      521.07       529.44      529.44   520.6050  3227862\n",
       "4 2015-09-14      529.44       521.38      532.45   518.5800  3130241"
      ]
     },
     "execution_count": 13,
     "metadata": {},
     "output_type": "execute_result"
    }
   ],
   "source": [
    "df_amazon.head()"
   ]
  },
  {
   "cell_type": "code",
   "execution_count": 14,
   "metadata": {
    "scrolled": true
   },
   "outputs": [
    {
     "data": {
      "text/plain": [
       "'2015-09-08 00:00:00'"
      ]
     },
     "execution_count": 14,
     "metadata": {},
     "output_type": "execute_result"
    }
   ],
   "source": [
    "str(df_amazon['begins_at'][0])"
   ]
  },
  {
   "cell_type": "code",
   "execution_count": 15,
   "metadata": {},
   "outputs": [],
   "source": [
    "import datetime as dt\n",
    "# df_amazon['begins_at'][0]dt.datetime.toordinal\n",
    "\n",
    "# d = dt.datetime.strptime(str(df_amazon['begins_at'][0]), '%Y-%m-%d').date()\n",
    "# d\n",
    "\n",
    "str_dates = np.array([])\n",
    "\n",
    "for date in df_amazon['begins_at']:\n",
    "    date = str(date).split(' ')\n",
    "    str_dates = np.append(str_dates,date[0])"
   ]
  },
  {
   "cell_type": "code",
   "execution_count": 16,
   "metadata": {},
   "outputs": [
    {
     "data": {
      "text/plain": [
       "array(['2015-09-08', '2015-09-09', '2015-09-10', ..., '2020-09-02',\n",
       "       '2020-09-03', '2020-09-04'], dtype='<U32')"
      ]
     },
     "execution_count": 16,
     "metadata": {},
     "output_type": "execute_result"
    }
   ],
   "source": [
    "str_dates"
   ]
  },
  {
   "cell_type": "code",
   "execution_count": 17,
   "metadata": {},
   "outputs": [
    {
     "data": {
      "text/plain": [
       "0       NaN\n",
       "1       NaN\n",
       "2       NaN\n",
       "3       NaN\n",
       "4       NaN\n",
       "       ... \n",
       "1255    NaN\n",
       "1256    NaN\n",
       "1257    NaN\n",
       "1258    NaN\n",
       "1259    NaN\n",
       "Name: begins_at, Length: 1260, dtype: object"
      ]
     },
     "execution_count": 17,
     "metadata": {},
     "output_type": "execute_result"
    }
   ],
   "source": [
    "df_amazon['begins_at'].map(pd.Series(str_dates))"
   ]
  },
  {
   "cell_type": "code",
   "execution_count": 18,
   "metadata": {},
   "outputs": [
    {
     "data": {
      "text/plain": [
       "0      2015-09-08\n",
       "1      2015-09-09\n",
       "2      2015-09-10\n",
       "3      2015-09-11\n",
       "4      2015-09-14\n",
       "          ...    \n",
       "1255   2020-08-31\n",
       "1256   2020-09-01\n",
       "1257   2020-09-02\n",
       "1258   2020-09-03\n",
       "1259   2020-09-04\n",
       "Name: begins_at, Length: 1260, dtype: datetime64[ns]"
      ]
     },
     "execution_count": 18,
     "metadata": {},
     "output_type": "execute_result"
    }
   ],
   "source": [
    "df_amazon['begins_at']"
   ]
  },
  {
   "cell_type": "markdown",
   "metadata": {},
   "source": [
    "We just finished reformatting the amazon stock data from 2015, now we need to split the dataset in to train and test splits"
   ]
  },
  {
   "cell_type": "code",
   "execution_count": 19,
   "metadata": {},
   "outputs": [],
   "source": [
    "from sklearn.model_selection import train_test_split "
   ]
  },
  {
   "cell_type": "code",
   "execution_count": 20,
   "metadata": {},
   "outputs": [],
   "source": [
    "# first need to convert date to a numerical value to use\n",
    "import datetime as dt\n",
    "\n",
    "df_amazon['begins_at'] = pd.to_datetime(df_amazon['begins_at'])\n",
    "df_amazon['begins_at'] = df_amazon['begins_at'].map(dt.datetime.toordinal)"
   ]
  },
  {
   "cell_type": "code",
   "execution_count": 21,
   "metadata": {},
   "outputs": [
    {
     "data": {
      "text/plain": [
       "0       735849\n",
       "1       735850\n",
       "2       735851\n",
       "3       735852\n",
       "4       735855\n",
       "         ...  \n",
       "1255    737668\n",
       "1256    737669\n",
       "1257    737670\n",
       "1258    737671\n",
       "1259    737672\n",
       "Name: begins_at, Length: 1260, dtype: int64"
      ]
     },
     "execution_count": 21,
     "metadata": {},
     "output_type": "execute_result"
    }
   ],
   "source": [
    "df_amazon['begins_at']"
   ]
  },
  {
   "cell_type": "code",
   "execution_count": 22,
   "metadata": {},
   "outputs": [
    {
     "name": "stdout",
     "output_type": "stream",
     "text": [
      "[ 508.69  524.    515.15 ... 3547.   3485.   3318.  ]\n",
      "[ 517.54  516.89  522.24 ... 3531.45 3368.   3294.62]\n",
      "[735849 735850 735851 ... 737670 737671 737672]\n"
     ]
    }
   ],
   "source": [
    "close = np.array(df_amazon['close_price'])\n",
    "date = np.array(df_amazon['begins_at'])\n",
    "open_ = np.array(df_amazon['open_price'])\n",
    "\n",
    "print(open_)\n",
    "print(close)\n",
    "print(date)"
   ]
  },
  {
   "cell_type": "code",
   "execution_count": 23,
   "metadata": {},
   "outputs": [],
   "source": [
    "# close_price/close = Y (predicted value, the labeled data we want to forecast)\n",
    "# begins_at/date = X (matrix of feature(input) values)\n",
    "\n",
    "date_train, date_test, close_train, close_test = train_test_split(\n",
    "    date, close, test_size=0.2, random_state=42)"
   ]
  },
  {
   "cell_type": "code",
   "execution_count": 24,
   "metadata": {},
   "outputs": [],
   "source": [
    "# close_train.sort()"
   ]
  },
  {
   "cell_type": "code",
   "execution_count": 25,
   "metadata": {},
   "outputs": [
    {
     "data": {
      "text/plain": [
       "array([ 757.25,  964.65, 2017.41, ..., 1975.83, 1640.26, 1884.3 ])"
      ]
     },
     "execution_count": 25,
     "metadata": {},
     "output_type": "execute_result"
    }
   ],
   "source": [
    "close_train"
   ]
  },
  {
   "cell_type": "code",
   "execution_count": 26,
   "metadata": {},
   "outputs": [],
   "source": [
    "# date_train.sort()"
   ]
  },
  {
   "cell_type": "code",
   "execution_count": 27,
   "metadata": {},
   "outputs": [
    {
     "data": {
      "text/plain": [
       "array([736200, 736593, 737250, ..., 737488, 737096, 737482], dtype=int64)"
      ]
     },
     "execution_count": 27,
     "metadata": {},
     "output_type": "execute_result"
    }
   ],
   "source": [
    "date_train"
   ]
  },
  {
   "cell_type": "code",
   "execution_count": 28,
   "metadata": {},
   "outputs": [
    {
     "data": {
      "text/plain": [
       "Text(0, 0.5, 'closed price')"
      ]
     },
     "execution_count": 28,
     "metadata": {},
     "output_type": "execute_result"
    },
    {
     "data": {
      "image/png": "[encoded data removed]",
      "text/plain": [
       "<Figure size 1152x576 with 1 Axes>"
      ]
     },
     "metadata": {},
     "output_type": "display_data"
    }
   ],
   "source": [
    "plt.figure(figsize=(16,8))\n",
    "plt.title('Amazon Close/Date Training Data')\n",
    "plt.scatter(date_train, close_train, marker='.', c='black')\n",
    "plt.xlabel('ordinal date')\n",
    "plt.ylabel('closed price')"
   ]
  },
  {
   "cell_type": "markdown",
   "metadata": {},
   "source": [
    "Selecting Linear Regression model for first attempt, first trying with numpy"
   ]
  },
  {
   "cell_type": "code",
   "execution_count": 29,
   "metadata": {},
   "outputs": [
    {
     "data": {
      "text/plain": [
       "array([[1.00000e+00, 7.36200e+05],\n",
       "       [1.00000e+00, 7.36593e+05],\n",
       "       [1.00000e+00, 7.37250e+05],\n",
       "       ...,\n",
       "       [1.00000e+00, 7.37488e+05],\n",
       "       [1.00000e+00, 7.37096e+05],\n",
       "       [1.00000e+00, 7.37482e+05]])"
      ]
     },
     "execution_count": 29,
     "metadata": {},
     "output_type": "execute_result"
    }
   ],
   "source": [
    "# using Normal Equation with numpy, \n",
    "# first step : creating matrix with closed price \n",
    "\n",
    "X_b = np.c_[np.ones((len(date_train), 1)), date_train]\n",
    "X_b"
   ]
  },
  {
   "cell_type": "code",
   "execution_count": 30,
   "metadata": {},
   "outputs": [],
   "source": [
    "theta = np.linalg.inv(X_b.T.dot(X_b)).dot(X_b.T).dot(close_train)"
   ]
  },
  {
   "cell_type": "code",
   "execution_count": 31,
   "metadata": {},
   "outputs": [
    {
     "data": {
      "text/plain": [
       "array([-8.36048483e+05,  1.13664737e+00])"
      ]
     },
     "execution_count": 31,
     "metadata": {},
     "output_type": "execute_result"
    }
   ],
   "source": [
    "theta"
   ]
  },
  {
   "cell_type": "markdown",
   "metadata": {},
   "source": [
    "Now trying with scikit learns built in linear regression package, this packages uses SVD(singular value decomposition) instead of other algorithms like gradient descent or normal equation because of speed and accuracy. This same algorithm is used in NLP and recommendation systems "
   ]
  },
  {
   "cell_type": "code",
   "execution_count": 32,
   "metadata": {},
   "outputs": [],
   "source": [
    "from sklearn.linear_model import LinearRegression\n",
    "from sklearn.metrics import r2_score\n",
    "import statsmodels.api as sm"
   ]
  },
  {
   "cell_type": "code",
   "execution_count": 33,
   "metadata": {},
   "outputs": [],
   "source": [
    "lin_reg = LinearRegression()"
   ]
  },
  {
   "cell_type": "code",
   "execution_count": 34,
   "metadata": {},
   "outputs": [],
   "source": [
    "date_train_b = date_train.reshape(-1, 1)\n",
    "close_train_b = close_train.reshape(-1, 1)"
   ]
  },
  {
   "cell_type": "code",
   "execution_count": 35,
   "metadata": {},
   "outputs": [],
   "source": [
    "df_date_b = df_amazon['begins_at'].values.reshape(-1, 1)\n",
    "df_close_b = df_amazon['close_price'].values.reshape(-1, 1)"
   ]
  },
  {
   "cell_type": "code",
   "execution_count": 36,
   "metadata": {},
   "outputs": [
    {
     "data": {
      "text/plain": [
       "LinearRegression()"
      ]
     },
     "execution_count": 36,
     "metadata": {},
     "output_type": "execute_result"
    }
   ],
   "source": [
    "# lin_reg.fit(date_train_b, close_train_b)\n",
    "lin_reg.fit(df_date_b, df_close_b)"
   ]
  },
  {
   "cell_type": "code",
   "execution_count": 37,
   "metadata": {},
   "outputs": [
    {
     "data": {
      "text/plain": [
       "(array([-842463.47769648]), array([[1.1453591]]))"
      ]
     },
     "execution_count": 37,
     "metadata": {},
     "output_type": "execute_result"
    }
   ],
   "source": [
    "lin_reg.intercept_, lin_reg.coef_"
   ]
  },
  {
   "cell_type": "code",
   "execution_count": 38,
   "metadata": {},
   "outputs": [
    {
     "name": "stdout",
     "output_type": "stream",
     "text": [
      "The linear model is: Y = -8.4246e+05 + 1.1454X\n"
     ]
    }
   ],
   "source": [
    "print(\"The linear model is: Y = {:.5} + {:.5}X\".format(lin_reg.intercept_[0], lin_reg.coef_[0][0]))"
   ]
  },
  {
   "cell_type": "code",
   "execution_count": 39,
   "metadata": {},
   "outputs": [],
   "source": [
    "# predictions = lin_reg.predict(date_train_b)\n",
    "predictions = lin_reg.predict(df_date_b)"
   ]
  },
  {
   "cell_type": "code",
   "execution_count": 40,
   "metadata": {},
   "outputs": [
    {
     "data": {
      "image/png": "[encoded data removed]",
      "text/plain": [
       "<Figure size 1152x576 with 1 Axes>"
      ]
     },
     "metadata": {},
     "output_type": "display_data"
    }
   ],
   "source": [
    "plt.figure(figsize=(16,8))\n",
    "plt.title('Amazon ClosedPrice')\n",
    "plt.scatter(\n",
    "#     date_train,\n",
    "    df_amazon['begins_at'],\n",
    "#     close_train,\n",
    "    df_amazon['close_price'],\n",
    "    marker='.',\n",
    "    c='black'\n",
    ")\n",
    "plt.plot(\n",
    "#     date_train,\n",
    "    df_amazon['begins_at'],\n",
    "    predictions,\n",
    "    c='red'\n",
    ")\n",
    "plt.xlabel(\"Ordinal Date\")\n",
    "plt.ylabel(\"Closed Price\")\n",
    "plt.show()"
   ]
  },
  {
   "cell_type": "code",
   "execution_count": 41,
   "metadata": {},
   "outputs": [
    {
     "name": "stdout",
     "output_type": "stream",
     "text": [
      "                            OLS Regression Results                            \n",
      "==============================================================================\n",
      "Dep. Variable:            close_price   R-squared:                       0.873\n",
      "Model:                            OLS   Adj. R-squared:                  0.873\n",
      "Method:                 Least Squares   F-statistic:                     8663.\n",
      "Date:                Tue, 22 Sep 2020   Prob (F-statistic):               0.00\n",
      "Time:                        13:34:27   Log-Likelihood:                -8641.1\n",
      "No. Observations:                1260   AIC:                         1.729e+04\n",
      "Df Residuals:                    1258   BIC:                         1.730e+04\n",
      "Df Model:                           1                                         \n",
      "Covariance Type:            nonrobust                                         \n",
      "==============================================================================\n",
      "                 coef    std err          t      P>|t|      [0.025      0.975]\n",
      "------------------------------------------------------------------------------\n",
      "const      -8.425e+05   9066.263    -92.923      0.000    -8.6e+05   -8.25e+05\n",
      "begins_at      1.1454      0.012     93.077      0.000       1.121       1.170\n",
      "==============================================================================\n",
      "Omnibus:                      351.227   Durbin-Watson:                   0.018\n",
      "Prob(Omnibus):                  0.000   Jarque-Bera (JB):             1075.498\n",
      "Skew:                           1.386   Prob(JB):                    2.87e-234\n",
      "Kurtosis:                       6.577   Cond. No.                     1.03e+09\n",
      "==============================================================================\n",
      "\n",
      "Notes:\n",
      "[1] Standard Errors assume that the covariance matrix of the errors is correctly specified.\n",
      "[2] The condition number is large, 1.03e+09. This might indicate that there are\n",
      "strong multicollinearity or other numerical problems.\n"
     ]
    }
   ],
   "source": [
    "X = df_amazon['begins_at']\n",
    "y = df_amazon['close_price']\n",
    "\n",
    "X2 = sm.add_constant(X)\n",
    "est = sm.OLS(y, X2)\n",
    "est2 = est.fit()\n",
    "print(est2.summary())"
   ]
  },
  {
   "cell_type": "code",
   "execution_count": 42,
   "metadata": {},
   "outputs": [
    {
     "data": {
      "text/plain": [
       "array([[ 347.86775227],\n",
       "       [ 349.01311137],\n",
       "       [ 350.15847046],\n",
       "       ...,\n",
       "       [2433.56666613],\n",
       "       [2434.71202522],\n",
       "       [2435.85738432]])"
      ]
     },
     "execution_count": 42,
     "metadata": {},
     "output_type": "execute_result"
    }
   ],
   "source": [
    "predictions"
   ]
  },
  {
   "cell_type": "markdown",
   "metadata": {},
   "source": [
    "This looks pretty good the r squared value is close to 1 and the F statistic is well over 1, however this data is not in a straight line will be trying this same metod with polynomial regression"
   ]
  }
 ],
 "metadata": {
  "kernelspec": {
   "display_name": "Python 3",
   "language": "python",
   "name": "python3"
  },
  "language_info": {
   "codemirror_mode": {
    "name": "ipython",
    "version": 3
   },
   "file_extension": ".py",
   "mimetype": "text/x-python",
   "name": "python",
   "nbconvert_exporter": "python",
   "pygments_lexer": "ipython3",
   "version": "3.8.5"
  }
 },
 "nbformat": 4,
 "nbformat_minor": 4
}
